{
  "nbformat": 4,
  "nbformat_minor": 0,
  "metadata": {
    "colab": {
      "provenance": [],
      "authorship_tag": "ABX9TyO2QDcziIrCAfa3kSIQGLSn",
      "include_colab_link": true
    },
    "kernelspec": {
      "name": "python3",
      "display_name": "Python 3"
    },
    "language_info": {
      "name": "python"
    }
  },
  "cells": [
    {
      "cell_type": "markdown",
      "metadata": {
        "id": "view-in-github",
        "colab_type": "text"
      },
      "source": [
        "<a href=\"https://colab.research.google.com/github/lekhasusan/Python_lab/blob/main/python_class_1.ipynb\" target=\"_parent\"><img src=\"https://colab.research.google.com/assets/colab-badge.svg\" alt=\"Open In Colab\"/></a>"
      ]
    },
    {
      "cell_type": "code",
      "execution_count": 2,
      "metadata": {
        "colab": {
          "base_uri": "https://localhost:8080/",
          "height": 106
        },
        "id": "fqtK7VlG7MY9",
        "outputId": "5a55c43b-62c5-47e7-8dd7-45deddd3219c"
      },
      "outputs": [
        {
          "output_type": "error",
          "ename": "SyntaxError",
          "evalue": "invalid syntax (<ipython-input-2-3ec555cb9c6c>, line 1)",
          "traceback": [
            "\u001b[0;36m  File \u001b[0;32m\"<ipython-input-2-3ec555cb9c6c>\"\u001b[0;36m, line \u001b[0;32m1\u001b[0m\n\u001b[0;31m    first program $math=\\dfrac{1}{2}$\u001b[0m\n\u001b[0m          ^\u001b[0m\n\u001b[0;31mSyntaxError\u001b[0m\u001b[0;31m:\u001b[0m invalid syntax\n"
          ]
        }
      ],
      "source": [
        "first program $math=\\dfrac{1}{2}$\n"
      ]
    },
    {
      "cell_type": "markdown",
      "source": [
        "first program $math=\\dfrac{1}{2}$"
      ],
      "metadata": {
        "id": "_uVHuCh67x9Q"
      }
    },
    {
      "cell_type": "code",
      "source": [
        "#First program\n",
        "#hello\n",
        "x=10\n",
        "\n",
        "\n",
        "print(x)\n",
        "print('hello')\n",
        "\"\"\"\n",
        "this is amultiline command\n",
        "Hello\n",
        "mathematics\n",
        "\"\"\"\n",
        "y=15\n",
        "print(y)\n",
        "if True:\n",
        "    print(\"this line is indented, so it's inside the if statement.\")\n",
        "    # 2. Datatypes\n",
        "x=100 #Integer\n",
        "type(x)\n",
        "y=3.14 #Float\n",
        "type(y)\n",
        "z=2+3j #Complex\n",
        "type(z)\n",
        "#strings\n",
        "text=\"Hello, World\"\n",
        "print (text)\n",
        "#Save part of a string to another string\n",
        "text_1=text[7:12]\n",
        "print(text_1)\n",
        "#Boolean\n",
        "# 2 posible values\n",
        "is_valid=True\n",
        "is_valid=False\n",
        "print(is_valid)\n",
        "type(is_valid)\n",
        "S=\"*\"\n",
        "print(S)"
      ],
      "metadata": {
        "id": "DQsU5ylE73gk"
      },
      "execution_count": null,
      "outputs": []
    },
    {
      "cell_type": "code",
      "source": [
        "\n",
        "# naming\n",
        "\n",
        "#variables should be descriptive\n",
        "\n",
        "#operators\n"
      ],
      "metadata": {
        "id": "Bl4jTd-sHY7m"
      },
      "execution_count": 30,
      "outputs": []
    },
    {
      "cell_type": "code",
      "source": [
        "#operators\n",
        "a=12\n",
        "b=3\n",
        "print(a+b)\n",
        "print(a-b)\n",
        "print(a*b)\n",
        "print(a/b)\n",
        "print(a//b) #a mod b\n",
        "print(a**b) #exponentiation: 1728\n",
        "\n",
        "\n"
      ],
      "metadata": {
        "colab": {
          "base_uri": "https://localhost:8080/"
        },
        "id": "TKVgz2yvHkXH",
        "outputId": "2d727db3-d23d-4bc2-cc76-009366ea1896"
      },
      "execution_count": 33,
      "outputs": [
        {
          "output_type": "stream",
          "name": "stdout",
          "text": [
            "15\n",
            "9\n",
            "36\n",
            "4.0\n",
            "4\n",
            "1728\n"
          ]
        }
      ]
    },
    {
      "cell_type": "code",
      "source": [
        "# comparoson operators\n",
        "x=5\n",
        "y=3\n",
        "print(x>y) #true\n",
        "print(x==y)# false\n",
        "p=True\n",
        "q=False\n",
        "print(p and q)\n",
        "print(p or q)\n",
        "print(not p)"
      ],
      "metadata": {
        "colab": {
          "base_uri": "https://localhost:8080/"
        },
        "id": "JlcaZiXMI-Ox",
        "outputId": "cf2ade01-2646-4f69-aaac-e0c85d70be12"
      },
      "execution_count": 35,
      "outputs": [
        {
          "output_type": "stream",
          "name": "stdout",
          "text": [
            "True\n",
            "False\n",
            "False\n",
            "True\n",
            "False\n"
          ]
        }
      ]
    },
    {
      "cell_type": "markdown",
      "source": [],
      "metadata": {
        "id": "R8lXZMDI_ctk"
      }
    },
    {
      "cell_type": "code",
      "source": [
        "#assignment operators\n",
        "x=5\n",
        "x+=3\n",
        "print(x)"
      ],
      "metadata": {
        "colab": {
          "base_uri": "https://localhost:8080/"
        },
        "id": "RRibldZFKMK4",
        "outputId": "d6917a76-4a2e-4a3f-e099-f2aa5a18e485"
      },
      "execution_count": 36,
      "outputs": [
        {
          "output_type": "stream",
          "name": "stdout",
          "text": [
            "8\n"
          ]
        }
      ]
    },
    {
      "cell_type": "code",
      "source": [],
      "metadata": {
        "id": "1F-7YcjPM5MD"
      },
      "execution_count": null,
      "outputs": []
    },
    {
      "cell_type": "markdown",
      "source": [
        "**task**\n"
      ],
      "metadata": {
        "id": "Y2V-TrWZNApj"
      }
    },
    {
      "cell_type": "markdown",
      "source": [
        "- **hello python**\n"
      ],
      "metadata": {
        "id": "SnurTBo2-g6-"
      }
    },
    {
      "cell_type": "markdown",
      "source": [
        "## `Python` code to print a comment or value in a variable\n",
        "\n",
        "```\n",
        "print('comment')\n",
        "print(x)\n",
        "\n",
        "```"
      ],
      "metadata": {
        "id": "jXsw1I_t_q9R"
      }
    },
    {
      "cell_type": "markdown",
      "source": [
        "for getting notes"
      ],
      "metadata": {
        "id": "GTGselkG7vYI"
      }
    },
    {
      "cell_type": "markdown",
      "source": [],
      "metadata": {
        "id": "aoy3xe_K7wE0"
      }
    },
    {
      "cell_type": "markdown",
      "source": [],
      "metadata": {
        "id": "kRVZ6v_L7pej"
      }
    }
  ]
}